{
 "cells": [
  {
   "cell_type": "markdown",
   "id": "642d48cb",
   "metadata": {},
   "source": [
    "# # Travel Data\n",
    "I will use this data to analyse information on various travel companies."
   ]
  },
  {
   "cell_type": "code",
   "execution_count": 1,
   "id": "ab81ff64",
   "metadata": {},
   "outputs": [
    {
     "name": "stderr",
     "output_type": "stream",
     "text": [
      "C:\\Users\\SHAWN\\AppData\\Local\\Programs\\Python\\Python39\\lib\\site-packages\\IPython\\core\\interactiveshell.py:3165: DtypeWarning: Columns (4,15,19,21) have mixed types.Specify dtype option on import or set low_memory=False.\n",
      "  has_raised = await self.run_ast_nodes(code_ast.body, cell_name,\n"
     ]
    }
   ],
   "source": [
    "import pandas as pd\n",
    "import matplotlib.pyplot as plt\n",
    "Data = pd.read_csv(\"csv_result-WorkingData.csv\")"
   ]
  },
  {
   "cell_type": "code",
   "execution_count": 2,
   "id": "d8566231",
   "metadata": {},
   "outputs": [
    {
     "name": "stdout",
     "output_type": "stream",
     "text": [
      "<class 'pandas.core.frame.DataFrame'>\n",
      "RangeIndex: 100000 entries, 0 to 99999\n",
      "Data columns (total 23 columns):\n",
      " #   Column                                 Non-Null Count   Dtype  \n",
      "---  ------                                 --------------   -----  \n",
      " 0   id                                     100000 non-null  int64  \n",
      " 1   telephone_no                           100000 non-null  int64  \n",
      " 2   travel_company                         100000 non-null  int64  \n",
      " 3   name_surname                           99982 non-null   object \n",
      " 4   trip_no                                99879 non-null   object \n",
      " 5   ticket_no                              99988 non-null   float64\n",
      " 6   time_of_travel                         99996 non-null   object \n",
      " 7   type_of_traveler                       99998 non-null   object \n",
      " 8   office_location                        99998 non-null   object \n",
      " 9   departure                              100000 non-null  object \n",
      " 10  arrival                                100000 non-null  object \n",
      " 11  gender_of_seat                         100000 non-null  object \n",
      " 12  data_of_transaction                    100000 non-null  object \n",
      " 13  seat_number                            100000 non-null  object \n",
      " 14  ticket_price                           100000 non-null  object \n",
      " 15  payment_method                         100000 non-null  object \n",
      " 16  journey_type                           100000 non-null  object \n",
      " 17  total_tickets_bought_for_same_vehicle  100000 non-null  object \n",
      " 18  Unnamed: 18                            139 non-null     object \n",
      " 19  Unnamed: 19                            12 non-null      object \n",
      " 20  Unnamed: 20                            4 non-null       float64\n",
      " 21  Unnamed: 21                            2 non-null       object \n",
      " 22  Unnamed: 22                            2 non-null       float64\n",
      "dtypes: float64(3), int64(3), object(17)\n",
      "memory usage: 17.5+ MB\n"
     ]
    }
   ],
   "source": [
    "Data.info()"
   ]
  },
  {
   "cell_type": "code",
   "execution_count": 3,
   "id": "19e57daf",
   "metadata": {},
   "outputs": [
    {
     "data": {
      "text/html": [
       "<div>\n",
       "<style scoped>\n",
       "    .dataframe tbody tr th:only-of-type {\n",
       "        vertical-align: middle;\n",
       "    }\n",
       "\n",
       "    .dataframe tbody tr th {\n",
       "        vertical-align: top;\n",
       "    }\n",
       "\n",
       "    .dataframe thead th {\n",
       "        text-align: right;\n",
       "    }\n",
       "</style>\n",
       "<table border=\"1\" class=\"dataframe\">\n",
       "  <thead>\n",
       "    <tr style=\"text-align: right;\">\n",
       "      <th></th>\n",
       "      <th>id</th>\n",
       "      <th>telephone_no</th>\n",
       "      <th>travel_company</th>\n",
       "      <th>ticket_no</th>\n",
       "      <th>Unnamed: 20</th>\n",
       "      <th>Unnamed: 22</th>\n",
       "    </tr>\n",
       "  </thead>\n",
       "  <tbody>\n",
       "    <tr>\n",
       "      <th>count</th>\n",
       "      <td>100000.000000</td>\n",
       "      <td>1.000000e+05</td>\n",
       "      <td>100000.000000</td>\n",
       "      <td>9.998800e+04</td>\n",
       "      <td>4.000000</td>\n",
       "      <td>2.0</td>\n",
       "    </tr>\n",
       "    <tr>\n",
       "      <th>mean</th>\n",
       "      <td>50000.500000</td>\n",
       "      <td>1.857025e+06</td>\n",
       "      <td>1248.205490</td>\n",
       "      <td>1.126171e+07</td>\n",
       "      <td>32.000000</td>\n",
       "      <td>61.0</td>\n",
       "    </tr>\n",
       "    <tr>\n",
       "      <th>std</th>\n",
       "      <td>28867.657797</td>\n",
       "      <td>1.298754e+04</td>\n",
       "      <td>11889.953033</td>\n",
       "      <td>8.624400e+06</td>\n",
       "      <td>42.473521</td>\n",
       "      <td>0.0</td>\n",
       "    </tr>\n",
       "    <tr>\n",
       "      <th>min</th>\n",
       "      <td>1.000000</td>\n",
       "      <td>1.839010e+06</td>\n",
       "      <td>14.000000</td>\n",
       "      <td>0.000000e+00</td>\n",
       "      <td>1.000000</td>\n",
       "      <td>61.0</td>\n",
       "    </tr>\n",
       "    <tr>\n",
       "      <th>25%</th>\n",
       "      <td>25000.750000</td>\n",
       "      <td>1.847156e+06</td>\n",
       "      <td>168.000000</td>\n",
       "      <td>2.047426e+06</td>\n",
       "      <td>1.000000</td>\n",
       "      <td>61.0</td>\n",
       "    </tr>\n",
       "    <tr>\n",
       "      <th>50%</th>\n",
       "      <td>50000.500000</td>\n",
       "      <td>1.853256e+06</td>\n",
       "      <td>434.000000</td>\n",
       "      <td>1.156174e+07</td>\n",
       "      <td>18.000000</td>\n",
       "      <td>61.0</td>\n",
       "    </tr>\n",
       "    <tr>\n",
       "      <th>75%</th>\n",
       "      <td>75000.250000</td>\n",
       "      <td>1.864801e+06</td>\n",
       "      <td>686.000000</td>\n",
       "      <td>1.368496e+07</td>\n",
       "      <td>49.000000</td>\n",
       "      <td>61.0</td>\n",
       "    </tr>\n",
       "    <tr>\n",
       "      <th>max</th>\n",
       "      <td>100000.000000</td>\n",
       "      <td>1.897167e+06</td>\n",
       "      <td>211400.000000</td>\n",
       "      <td>3.756544e+07</td>\n",
       "      <td>91.000000</td>\n",
       "      <td>61.0</td>\n",
       "    </tr>\n",
       "  </tbody>\n",
       "</table>\n",
       "</div>"
      ],
      "text/plain": [
       "                  id  telephone_no  travel_company     ticket_no  Unnamed: 20  \\\n",
       "count  100000.000000  1.000000e+05   100000.000000  9.998800e+04     4.000000   \n",
       "mean    50000.500000  1.857025e+06     1248.205490  1.126171e+07    32.000000   \n",
       "std     28867.657797  1.298754e+04    11889.953033  8.624400e+06    42.473521   \n",
       "min         1.000000  1.839010e+06       14.000000  0.000000e+00     1.000000   \n",
       "25%     25000.750000  1.847156e+06      168.000000  2.047426e+06     1.000000   \n",
       "50%     50000.500000  1.853256e+06      434.000000  1.156174e+07    18.000000   \n",
       "75%     75000.250000  1.864801e+06      686.000000  1.368496e+07    49.000000   \n",
       "max    100000.000000  1.897167e+06   211400.000000  3.756544e+07    91.000000   \n",
       "\n",
       "       Unnamed: 22  \n",
       "count          2.0  \n",
       "mean          61.0  \n",
       "std            0.0  \n",
       "min           61.0  \n",
       "25%           61.0  \n",
       "50%           61.0  \n",
       "75%           61.0  \n",
       "max           61.0  "
      ]
     },
     "execution_count": 3,
     "metadata": {},
     "output_type": "execute_result"
    }
   ],
   "source": [
    "Data.describe()"
   ]
  },
  {
   "cell_type": "code",
   "execution_count": 4,
   "id": "ade6ee00",
   "metadata": {},
   "outputs": [
    {
     "data": {
      "text/plain": [
       "departure  arrival   trip_no\n",
       "KAYSERİ    ŞIRNAK    275178     10\n",
       "ANKARA     ÇORUM     3445       10\n",
       "Karapınar  ANTALYA   18352      10\n",
       "TRABZON    SAKARYA   80818      10\n",
       "GAZİANTEP  ISTANBUL  87537      10\n",
       "                                ..\n",
       "ESKİŞEHİR  NİĞDE     66391       1\n",
       "                     67798       1\n",
       "                     69068       1\n",
       "           ORDU      144790      1\n",
       "ISTANBUL   ANKARA    19927       1\n",
       "Name: trip_no, Length: 68564, dtype: int64"
      ]
     },
     "execution_count": 4,
     "metadata": {},
     "output_type": "execute_result"
    }
   ],
   "source": [
    "#Travel routes that are purchased mostly\n",
    "Data.groupby([\"departure\",\"arrival\"])[\"trip_no\"].value_counts().sort_values(ascending=False)"
   ]
  },
  {
   "cell_type": "code",
   "execution_count": 5,
   "id": "f6f0be21",
   "metadata": {},
   "outputs": [
    {
     "data": {
      "text/plain": [
       "<AxesSubplot:>"
      ]
     },
     "execution_count": 5,
     "metadata": {},
     "output_type": "execute_result"
    },
    {
     "data": {
      "image/png": "[encoded data removed]",
      "text/plain": [
       "<Figure size 432x288 with 1 Axes>"
      ]
     },
     "metadata": {
      "needs_background": "light"
     },
     "output_type": "display_data"
    }
   ],
   "source": [
    "Data.groupby([\"departure\",\"arrival\"])[\"trip_no\"].head(10).value_counts().sort_values(ascending=False).plot()"
   ]
  },
  {
   "cell_type": "code",
   "execution_count": 9,
   "id": "e6bf6ba6",
   "metadata": {},
   "outputs": [
    {
     "data": {
      "text/plain": [
       "105     10019\n",
       "476      5636\n",
       "175      3022\n",
       "1603     2802\n",
       "308      2751\n",
       "        ...  \n",
       "2002        1\n",
       "1813        1\n",
       "1883        1\n",
       "1379        1\n",
       "1330        1\n",
       "Name: travel_company, Length: 232, dtype: int64"
      ]
     },
     "execution_count": 9,
     "metadata": {},
     "output_type": "execute_result"
    }
   ],
   "source": [
    "# Companies that are preffered the most\n",
    "Data.travel_company.value_counts().sort_values(ascending=False)"
   ]
  },
  {
   "cell_type": "code",
   "execution_count": 11,
   "id": "9cc1c392",
   "metadata": {},
   "outputs": [
    {
     "data": {
      "text/plain": [
       "<AxesSubplot:>"
      ]
     },
     "execution_count": 11,
     "metadata": {},
     "output_type": "execute_result"
    },
    {
     "data": {
      "image/png": "[encoded data removed]",
      "text/plain": [
       "<Figure size 432x288 with 1 Axes>"
      ]
     },
     "metadata": {
      "needs_background": "light"
     },
     "output_type": "display_data"
    }
   ],
   "source": [
    "Data.travel_company.value_counts().head(50).plot.bar()"
   ]
  },
  {
   "cell_type": "code",
   "execution_count": 12,
   "id": "7dad7eff",
   "metadata": {},
   "outputs": [
    {
     "data": {
      "text/plain": [
       "departure        arrival      gender_of_seat  type_of_traveler  trip_no\n",
       "ISTANBUL         DİYARBAKIR   3               0                 11456      10\n",
       "                 Gölbaşı_Ady  3               0                 54119      10\n",
       "ERZURUM          ISTANBUL     3               0                 133694     10\n",
       "ISTANBUL         BAYBURT      3               0                 3846       10\n",
       "                                                                6256       10\n",
       "                                                                           ..\n",
       "ANKARA_Söğütözü  ISTANBUL     3               0                 381802      1\n",
       "                                                                378849      1\n",
       "                                                                378777      1\n",
       "                                                                378743      1\n",
       "11-Nisan_Aligör  ADANA        3               0                 51301       1\n",
       "Name: trip_no, Length: 69328, dtype: int64"
      ]
     },
     "execution_count": 12,
     "metadata": {},
     "output_type": "execute_result"
    }
   ],
   "source": [
    "#Trips that are purchased most frequently(for each type of customer)\n",
    "Data.groupby([\"departure\",\"arrival\",\"gender_of_seat\",\"type_of_traveler\"])[\"trip_no\"].value_counts().sort_values(ascending=False)"
   ]
  },
  {
   "cell_type": "code",
   "execution_count": 13,
   "id": "4c6f9aee",
   "metadata": {},
   "outputs": [
    {
     "data": {
      "text/plain": [
       "travel_company  gender_of_seat\n",
       "14              3                 1292\n",
       "                1                  240\n",
       "                KAHRAMANMARAŞ        1\n",
       "21              3                  366\n",
       "                1                  138\n",
       "                                  ... \n",
       "210084          3                   96\n",
       "                1                   24\n",
       "210161          3                    6\n",
       "211400          3                    3\n",
       "                1                    1\n",
       "Name: gender_of_seat, Length: 527, dtype: int64"
      ]
     },
     "execution_count": 13,
     "metadata": {},
     "output_type": "execute_result"
    }
   ],
   "source": [
    "#Companies that are preffered most frequently by (man vs woman)\n",
    "Data.groupby([\"travel_company\"])[\"gender_of_seat\"].value_counts()"
   ]
  },
  {
   "cell_type": "code",
   "execution_count": 14,
   "id": "84b94a1f",
   "metadata": {},
   "outputs": [
    {
     "data": {
      "text/plain": [
       "<AxesSubplot:xlabel='travel_company,gender_of_seat'>"
      ]
     },
     "execution_count": 14,
     "metadata": {},
     "output_type": "execute_result"
    },
    {
     "data": {
      "image/png": "[encoded data removed]",
      "text/plain": [
       "<Figure size 432x288 with 1 Axes>"
      ]
     },
     "metadata": {
      "needs_background": "light"
     },
     "output_type": "display_data"
    }
   ],
   "source": [
    "Data.groupby([\"travel_company\"])[\"gender_of_seat\"].value_counts().plot()"
   ]
  },
  {
   "cell_type": "code",
   "execution_count": 15,
   "id": "efbfc745",
   "metadata": {},
   "outputs": [
    {
     "data": {
      "text/plain": [
       "travel_company  type_of_traveler   \n",
       "14              0                      1528\n",
       "                2                         3\n",
       "                1                         1\n",
       "                2012-02-13-00:00:00       1\n",
       "21              0                       504\n",
       "                                       ... \n",
       "210070          10368237                  1\n",
       "210077          0                        55\n",
       "210084          0                       120\n",
       "210161          0                         6\n",
       "211400          0                         4\n",
       "Name: type_of_traveler, Length: 440, dtype: int64"
      ]
     },
     "execution_count": 15,
     "metadata": {},
     "output_type": "execute_result"
    }
   ],
   "source": [
    "# Companies that are preffered by normal people and students\n",
    "Data.groupby([\"travel_company\"])[\"type_of_traveler\"].value_counts()"
   ]
  },
  {
   "cell_type": "code",
   "execution_count": 16,
   "id": "3cd24a9a",
   "metadata": {},
   "outputs": [
    {
     "data": {
      "text/plain": [
       "<AxesSubplot:xlabel='travel_company,type_of_traveler'>"
      ]
     },
     "execution_count": 16,
     "metadata": {},
     "output_type": "execute_result"
    },
    {
     "data": {
      "image/png": "[encoded data removed]",
      "text/plain": [
       "<Figure size 432x288 with 1 Axes>"
      ]
     },
     "metadata": {
      "needs_background": "light"
     },
     "output_type": "display_data"
    }
   ],
   "source": [
    "Data.groupby([\"travel_company\"])[\"type_of_traveler\"].value_counts().plot()\n"
   ]
  },
  {
   "cell_type": "code",
   "execution_count": null,
   "id": "e87b4ba4",
   "metadata": {},
   "outputs": [],
   "source": []
  }
 ],
 "metadata": {
  "kernelspec": {
   "display_name": "Python 3",
   "language": "python",
   "name": "python3"
  },
  "language_info": {
   "codemirror_mode": {
    "name": "ipython",
    "version": 3
   },
   "file_extension": ".py",
   "mimetype": "text/x-python",
   "name": "python",
   "nbconvert_exporter": "python",
   "pygments_lexer": "ipython3",
   "version": "3.9.1"
  }
 },
 "nbformat": 4,
 "nbformat_minor": 5
}
