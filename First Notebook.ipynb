{
 "cells": [
  {
   "cell_type": "markdown",
   "id": "3e2365cc",
   "metadata": {},
   "source": [
    "# # INTRODUCTION TO PROGRAMMING\n",
    "In this program we are going to learn how to use jupyter Notebook"
   ]
  },
  {
   "cell_type": "code",
   "execution_count": 3,
   "id": "61e3786c",
   "metadata": {},
   "outputs": [
    {
     "name": "stdout",
     "output_type": "stream",
     "text": [
      "Please enter your first nameShawn\n",
      "The users name is Shawn\n"
     ]
    }
   ],
   "source": [
    "def main():\n",
    "    user=input(\"Please enter your first name\")\n",
    "    print(\"The users name is\", user)\n",
    "main()"
   ]
  },
  {
   "cell_type": "code",
   "execution_count": null,
   "id": "6b530139",
   "metadata": {},
   "outputs": [],
   "source": []
  }
 ],
 "metadata": {
  "kernelspec": {
   "display_name": "Python 3",
   "language": "python",
   "name": "python3"
  },
  "language_info": {
   "codemirror_mode": {
    "name": "ipython",
    "version": 3
   },
   "file_extension": ".py",
   "mimetype": "text/x-python",
   "name": "python",
   "nbconvert_exporter": "python",
   "pygments_lexer": "ipython3",
   "version": "3.9.1"
  }
 },
 "nbformat": 4,
 "nbformat_minor": 5
}
